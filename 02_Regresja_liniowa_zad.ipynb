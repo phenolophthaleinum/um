{
 "cells": [
  {
   "cell_type": "code",
   "execution_count": 9,
   "id": "70fa3e6a",
   "metadata": {
    "scrolled": true
   },
   "outputs": [
    {
     "data": {
      "text/latex": [
       "$\\displaystyle \\large\\textrm{Wynik:}\\quad \\theta = \\left[\\begin{array}{r}16.9675 \\\\ 1.3149 \\\\ \\end{array}\\right] \\quad J(\\theta) = 180.4102 \\quad \\textrm{po 17780 iteracjach}$"
      ],
      "text/plain": [
       "<IPython.core.display.Math object>"
      ]
     },
     "metadata": {},
     "output_type": "display_data"
    },
    {
     "name": "stdout",
     "output_type": "stream",
     "text": [
      "Przewidywana ilosc kradziezy dla 50 pozarow: 82.70999487819813\n",
      "Przewidywana ilosc kradziezy dla 100 pozarow: 148.45251499453076\n",
      "Przewidywana ilosc kradziezy dla 200 pozarow: 279.93755522719596\n"
     ]
    }
   ],
   "source": [
    "# zad 17.03\n",
    "\n",
    "import numpy as np\n",
    "import matplotlib\n",
    "import matplotlib.pyplot as plt\n",
    "import ipywidgets as widgets\n",
    "import pandas as pd\n",
    "\n",
    "%matplotlib inline\n",
    "%config InlineBackend.figure_format = \"svg\"\n",
    "\n",
    "from IPython.display import display, Math, Latex\n",
    "\n",
    "\n",
    "# funkcje\n",
    "def h(theta, x):\n",
    "    return theta[0] + theta[1] * x\n",
    "\n",
    "\n",
    "def J(h, theta, x, y):\n",
    "    \"\"\"Funkcja kosztu\"\"\"\n",
    "    m = len(y)\n",
    "    return 1.0 / (2 * m) * sum((h(theta, x[i]) - y[i])**2 for i in range(m))\n",
    "\n",
    "\n",
    "def LatexMatrix(matrix):\n",
    "    ltx = r'\\left[\\begin{array}'\n",
    "    m, n = matrix.shape\n",
    "    ltx += '{' + (\"r\" * n) + '}'\n",
    "    for i in range(m):\n",
    "        ltx += r\" & \".join([('%.4f' % j.item()) for j in matrix[i]]) + r\" \\\\ \"\n",
    "    ltx += r'\\end{array}\\right]'\n",
    "    return ltx\n",
    "\n",
    "\n",
    "def gradient_descent(h, cost_fun, theta, x, y, alpha, eps):\n",
    "    current_cost = cost_fun(h, theta, x, y)\n",
    "    log = [[current_cost, theta]]  # log przechowuje wartości kosztu i parametrów\n",
    "    m = len(y)\n",
    "    while True:\n",
    "        new_theta = [\n",
    "            theta[0] - alpha/float(m) * sum(h(theta, x[i]) - y[i]\n",
    "                                            for i in range(m)),   \n",
    "            theta[1] - alpha/float(m) * sum((h(theta, x[i]) - y[i]) * x[i]\n",
    "                                            for i in range(m))]\n",
    "        theta = new_theta  # jednoczesna aktualizacja - używamy zmiennej tymczasowej\n",
    "        prev_cost = current_cost\n",
    "        current_cost = cost_fun(h, theta, x, y)\n",
    "        if current_cost > prev_cost:\n",
    "            print(\"Zbyt duża długość kroku!\")\n",
    "            break\n",
    "        if abs(prev_cost - current_cost) <= eps:\n",
    "            break     \n",
    "        log.append([current_cost, theta])\n",
    "    return theta, log\n",
    "\n",
    "\n",
    "# wykonanie\n",
    "## wczytanie danych\n",
    "data = pd.read_csv(\"fires_thefts.csv\", names=['fires', 'thefts'])\n",
    "x_fires = data[\"fires\"].tolist() # albo - .to_numpy().flatten()\n",
    "y_thefts = data[\"thefts\"].tolist()\n",
    "\n",
    "## wytrenowanie modelu za pomoca iteracyjnego gradientu prostego\n",
    "best_theta, log = gradient_descent(h, J, [0.0, 0.0], x_fires, y_thefts, alpha=0.001, eps=0.0000001)\n",
    "\n",
    "display(Math(r'\\large\\textrm{Wynik:}\\quad \\theta = ' + \n",
    "             LatexMatrix(np.matrix(best_theta).reshape(2,1)) + \n",
    "            (r' \\quad J(\\theta) = %.4f' % log[-1][0])  \n",
    "            + r' \\quad \\textrm{po %d iteracjach}' % len(log))) \n",
    "\n",
    "\n",
    "#predykcja\n",
    "example_fires = [50, 100, 200]\n",
    "for example in example_fires: print(f\"Przewidywana ilosc kradziezy dla {example} pozarow: {h(best_theta, example)}\")"
   ]
  }
 ],
 "metadata": {
  "kernelspec": {
   "display_name": "Python 3",
   "language": "python",
   "name": "python3"
  },
  "language_info": {
   "codemirror_mode": {
    "name": "ipython",
    "version": 3
   },
   "file_extension": ".py",
   "mimetype": "text/x-python",
   "name": "python",
   "nbconvert_exporter": "python",
   "pygments_lexer": "ipython3",
   "version": "3.8.8"
  }
 },
 "nbformat": 4,
 "nbformat_minor": 5
}
