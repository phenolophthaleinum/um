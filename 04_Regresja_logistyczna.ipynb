{
 "cells": [
  {
   "cell_type": "markdown",
   "metadata": {
    "slideshow": {
     "slide_type": "-"
    }
   },
   "source": [
    "### AITech — Uczenie maszynowe — laboratoria\n",
    "# 4. Regresja logistyczna"
   ]
  },
  {
   "cell_type": "markdown",
   "metadata": {},
   "source": [
    "Do wykonania zadań wykorzystaj wiedzę z wykładów *3. Regresja logistyczna* i *4. Metody ewaluacji*."
   ]
  },
  {
   "cell_type": "markdown",
   "metadata": {},
   "source": [
    "## Zadanie 4 (6 punktów)\n",
    "\n",
    "Plik *gratkapl-centrenrm.csv* zawiera dane wzbogacone o nową cechę *Centre*, przyjmującą wartość 1, jeżeli lokalizacja mieszkania to centrum, i 0 w przeciwnym przypadku.\n",
    "\n",
    "Zamiast przywidywania ceny mieszkania, spróbuj przewidzieć lokalizację mieszkania: *centrum* vs. *nie-centrum* za pomocą regresji logistcznej.\n",
    "\n",
    " 1. Podziel dane trenujące na nowe dane treningowe (pierwsze 4/5 danych) i testowe (ostatnie 1/5 danych)\n",
    " 1. Stwórz dwuklasowy model regresji logistycznej, korzystając z cech liczbowych *Price,Rooms,SqrMeters,Floor*. Warto usunąć obserwacje odstające i dokonać normalizacji danych.\n",
    " 1. Podaj procent poprawnych wyników (tzw. skuteczność, *accuracy*) dla zestawu testowego.\n",
    " \n",
    "Otrzymaną wartość porównaj z wynikiem uzyskiwanym przez klasyfikator losowy (czyli taki, który przyporządkowuje losową wartość 0 lub 1 z prawdopodobieństem 1/2)."
   ]
  },
  {
   "cell_type": "markdown",
   "metadata": {},
   "source": [
    "**Uwaga**: Cecha *Centre* została wygenerowana automatycznie na podstawie opisów lokalizacji mieszkań i okazuje się, że jest słabo skorelowana z cechami liczbowymi, dlatego proszę się nie przejmować, jeżeli wartości funkcji regresji logistycznej i przewidywania modelu będą nieco dziwne."
   ]
  },
  {
   "cell_type": "code",
   "execution_count": 9,
   "metadata": {},
   "outputs": [],
   "source": [
    "# Przydatne importy\n",
    "\n",
    "import numpy as np\n",
    "import matplotlib\n",
    "import matplotlib.pyplot as pl\n",
    "import pandas as pd\n",
    "import ipywidgets as widgets\n",
    "import random\n",
    "\n",
    "%matplotlib inline\n",
    "%config InlineBackend.figure_format = 'svg'\n",
    "\n",
    "from IPython.display import display, Math, Latex, Markdown\n"
   ]
  },
  {
   "cell_type": "code",
   "execution_count": 2,
   "metadata": {
    "scrolled": true
   },
   "outputs": [
    {
     "name": "stdout",
     "output_type": "stream",
     "text": [
      "       Price  Rooms  SqrMeters  Floor  Centre\n",
      "0     386064      2      46.00      3       1\n",
      "1     280000      2      41.00      5       0\n",
      "2     329000      2      50.50      1       0\n",
      "3     225000      2      43.00     10       1\n",
      "4     280000      2      69.00      3       0\n",
      "...      ...    ...        ...    ...     ...\n",
      "1610  261000      2      44.30      3       1\n",
      "1611  605520      3      84.00      2       1\n",
      "1612  380000      2      41.11      1       0\n",
      "1613  209000      1      31.00      5       1\n",
      "1614  217000      2      56.00      3       1\n",
      "\n",
      "[1615 rows x 5 columns]\n",
      "        Price  Rooms  SqrMeters  Floor  Centre\n",
      "1615   690000      2     121.00      1       1\n",
      "1616   197550      2      49.40      2       1\n",
      "1617   330000      4      74.50      1       0\n",
      "1618  1140000      6     192.40      1       0\n",
      "1619   194000      1      36.10      1       0\n",
      "...       ...    ...        ...    ...     ...\n",
      "2013   277000      2      46.10      3       0\n",
      "2014   371000      3      47.00      2       0\n",
      "2015   341600      2      61.00      1       0\n",
      "2016   149000      1      28.00      3       0\n",
      "2017   270108      2      44.28      2       0\n",
      "\n",
      "[403 rows x 5 columns]\n"
     ]
    }
   ],
   "source": [
    "# wczytanie danych i podzial\n",
    "df = pd.read_csv(\"gratkapl-centrenrm.csv\", usecols=[\"Price\", \"Rooms\", \"SqrMeters\", \"Floor\", \"Centre\"])\n",
    "df_split = np.array_split(df, 5)\n",
    "df_test = df_split[-1]\n",
    "df_train = pd.concat(df_split[:4])\n",
    "print(df_train)\n",
    "print(df_test)"
   ]
  },
  {
   "cell_type": "code",
   "execution_count": 3,
   "metadata": {},
   "outputs": [],
   "source": [
    "# przeksztalcenie na macierze\n",
    "\n",
    "m, n_plus_1 = df_train.values.shape\n",
    "n = n_plus_1 - 1\n",
    "m2, n_plus_1_2= df_test.values.shape\n",
    "n2 = n_plus_1_2 - 1\n",
    "Xn = df_train.values[:, 0:n].reshape(m, n)\n",
    "Xn2 = df_test.values[:, 0:n2].reshape(m2, n2)\n",
    "\n",
    "XTrain = np.matrix(np.concatenate((np.ones((m, 1)), Xn), axis=1)).reshape(m, n_plus_1)\n",
    "ytrain = np.matrix(df_train.values[:, n]).reshape(m, 1)\n",
    "\n",
    "XTest = np.matrix(np.concatenate((np.ones((m2, 1)), Xn2), axis=1)).reshape(m2, n_plus_1_2)\n",
    "ytest = np.matrix(df_test.values[:, n2]).reshape(m2, 1)\n",
    "# XMx4 = np.matrix(np.concatenate((np.ones((m, 1)), Xn), axis=1)).reshape(m, n_plus_1)\n",
    "# yMx4 = np.matrix(df.values[:, n]).reshape(m, 1)\n",
    "\n",
    "# print(XMx4[:6])\n",
    "# print(yMx4[:6])\n",
    "# print(XTrain)\n",
    "# print(ytrain)\n",
    "\n",
    "# print(XTest)\n",
    "# print(ytest)\n"
   ]
  },
  {
   "cell_type": "code",
   "execution_count": 4,
   "metadata": {},
   "outputs": [
    {
     "name": "stdout",
     "output_type": "stream",
     "text": [
      "[[ 0.00000000e+00  2.56864539e-05 -7.64705882e-02 -4.60265507e-02\n",
      "   3.79256966e-03]\n",
      " [ 0.00000000e+00 -2.88988950e-03 -7.64705882e-02 -6.54818036e-02\n",
      "   1.28792570e-01]\n",
      " [ 0.00000000e+00 -1.54293651e-03 -7.64705882e-02 -2.85168231e-02\n",
      "  -1.21207430e-01]\n",
      " ...\n",
      " [ 0.00000000e+00 -1.41005851e-04 -7.64705882e-02 -6.50537881e-02\n",
      "  -1.21207430e-01]\n",
      " [ 0.00000000e+00 -4.84159689e-03 -2.43137255e-01 -1.04392309e-01\n",
      "   1.28792570e-01]\n",
      " [ 0.00000000e+00 -4.62168620e-03 -7.64705882e-02 -7.11604486e-03\n",
      "   3.79256966e-03]]\n"
     ]
    },
    {
     "data": {
      "text/latex": [
       "$\\displaystyle 0.00 \\leq x_0 \\leq 0.00$"
      ],
      "text/plain": [
       "<IPython.core.display.Math object>"
      ]
     },
     "metadata": {},
     "output_type": "display_data"
    },
    {
     "data": {
      "text/latex": [
       "$\\displaystyle -0.01 \\leq x_1 \\leq 0.99$"
      ],
      "text/plain": [
       "<IPython.core.display.Math object>"
      ]
     },
     "metadata": {},
     "output_type": "display_data"
    },
    {
     "data": {
      "text/latex": [
       "$\\displaystyle -0.24 \\leq x_2 \\leq 0.59$"
      ],
      "text/plain": [
       "<IPython.core.display.Math object>"
      ]
     },
     "metadata": {},
     "output_type": "display_data"
    },
    {
     "data": {
      "text/latex": [
       "$\\displaystyle -0.17 \\leq x_3 \\leq 0.77$"
      ],
      "text/plain": [
       "<IPython.core.display.Math object>"
      ]
     },
     "metadata": {},
     "output_type": "display_data"
    },
    {
     "data": {
      "text/latex": [
       "$\\displaystyle -0.12 \\leq x_4 \\leq 0.82$"
      ],
      "text/plain": [
       "<IPython.core.display.Math object>"
      ]
     },
     "metadata": {},
     "output_type": "display_data"
    },
    {
     "data": {
      "text/latex": [
       "$\\displaystyle 0.00 \\leq x_0 \\leq 0.00$"
      ],
      "text/plain": [
       "<IPython.core.display.Math object>"
      ]
     },
     "metadata": {},
     "output_type": "display_data"
    },
    {
     "data": {
      "text/latex": [
       "$\\displaystyle -0.21 \\leq x_1 \\leq 0.73$"
      ],
      "text/plain": [
       "<IPython.core.display.Math object>"
      ]
     },
     "metadata": {},
     "output_type": "display_data"
    },
    {
     "data": {
      "text/latex": [
       "$\\displaystyle -0.23 \\leq x_2 \\leq 0.60$"
      ],
      "text/plain": [
       "<IPython.core.display.Math object>"
      ]
     },
     "metadata": {},
     "output_type": "display_data"
    },
    {
     "data": {
      "text/latex": [
       "$\\displaystyle -0.19 \\leq x_3 \\leq 0.71$"
      ],
      "text/plain": [
       "<IPython.core.display.Math object>"
      ]
     },
     "metadata": {},
     "output_type": "display_data"
    },
    {
     "data": {
      "text/latex": [
       "$\\displaystyle -0.12 \\leq x_4 \\leq 0.80$"
      ],
      "text/plain": [
       "<IPython.core.display.Math object>"
      ]
     },
     "metadata": {},
     "output_type": "display_data"
    }
   ],
   "source": [
    "# normalizacja dnaych\n",
    "\n",
    "def show_mins_and_maxs(XMx):\n",
    "    mins = np.amin(XMx, axis=0).tolist()[0]  # wartości minimalne\n",
    "    maxs = np.amax(XMx, axis=0).tolist()[0]  # wartości maksymalne\n",
    "    for i, (xmin, xmax) in enumerate(zip(mins, maxs)):\n",
    "        display(Math(\n",
    "            r'${:.2F} \\leq x_{} \\leq {:.2F}$'.format(xmin, i, xmax)))\n",
    "        \n",
    "\n",
    "XTrain_norm = (XTrain - np.mean(XTrain, axis=0)) / np.amax(XTrain, axis=0)\n",
    "XTest_norm = (XTest - np.mean(XTest, axis=0)) / np.amax(XTest, axis=0)\n",
    "print(XTrain_norm)\n",
    "show_mins_and_maxs(XTrain_norm)\n",
    "show_mins_and_maxs(XTest_norm)"
   ]
  },
  {
   "cell_type": "code",
   "execution_count": 5,
   "metadata": {},
   "outputs": [
    {
     "name": "stdout",
     "output_type": "stream",
     "text": [
      "error = [[0.69195052]]\n",
      "theta = [[1.        ]\n",
      " [0.93331417]\n",
      " [0.18175774]\n",
      " [1.10451816]\n",
      " [0.48075158]]\n"
     ]
    }
   ],
   "source": [
    "# regresja logistyczna\n",
    "\n",
    "# Funkjca logistycza\n",
    "thetaTemp = np.ones(5).reshape(5,1)\n",
    "\n",
    "\n",
    "def logistic(x):\n",
    "    return 1.0 / (1.0 + np.exp(-x))\n",
    "\n",
    "\n",
    "# Funkcja regresji logistcznej\n",
    "def h(theta, X):\n",
    "    return 1.0/(1.0 + np.exp(-X * theta))\n",
    "\n",
    "\n",
    "# Funkcja kosztu dla regresji logistycznej\n",
    "def J(h, theta, X, y):\n",
    "    m = len(y)\n",
    "    h_val = h(theta, X)\n",
    "    s1 = np.multiply(y, np.log(h_val))\n",
    "    s2 = np.multiply((1 - y), np.log(1 - h_val))\n",
    "    return -np.sum(s1 + s2, axis=0) / m\n",
    "\n",
    "\n",
    "# Gradient dla regresji logistycznej\n",
    "def dJ(h, theta, X, y):\n",
    "    return 1.0 / len(y) * (X.T * (h(theta, X) - y))\n",
    "\n",
    "\n",
    "# Metoda gradientu prostego dla regresji logistycznej\n",
    "def GD(h, fJ, fdJ, theta, X, y, alpha=0.01, eps=10**-3, maxSteps=10000):\n",
    "    errorCurr = fJ(h, theta, X, y)\n",
    "    errors = [[errorCurr, theta]]\n",
    "    while True:\n",
    "        # oblicz nowe theta\n",
    "        theta = theta - alpha * fdJ(h, theta, X, y)\n",
    "        # raportuj poziom błędu\n",
    "        errorCurr, errorPrev = fJ(h, theta, X, y), errorCurr\n",
    "        # kryteria stopu\n",
    "        if abs(errorPrev - errorCurr) <= eps:\n",
    "            break\n",
    "        if len(errors) > maxSteps:\n",
    "            break\n",
    "        errors.append([errorCurr, theta]) \n",
    "    return theta, errors\n",
    "\n",
    "\n",
    "# Uruchomienie metody gradientu prostego dla regresji logistycznej\n",
    "thetaBest, errors = GD(h, J, dJ, thetaTemp, XTrain_norm, ytrain, \n",
    "                       alpha=0.1, eps=10**-7, maxSteps=1000)\n",
    "print(\"error =\", errors[-1][0])\n",
    "print(\"theta =\", thetaBest)"
   ]
  },
  {
   "cell_type": "code",
   "execution_count": 12,
   "metadata": {},
   "outputs": [
    {
     "name": "stdout",
     "output_type": "stream",
     "text": [
      "theta = [[1.        ]\n",
      " [0.93331417]\n",
      " [0.18175774]\n",
      " [1.10451816]\n",
      " [0.48075158]]\n",
      "x0 = [[ 0.          0.33618676 -0.0624483   0.33779618 -0.12371499]]\n",
      "h(x0) = 0.6493181112131285\n",
      "c(x0) = (1, 0.6493181112131285) \n",
      "\n"
     ]
    },
    {
     "data": {
      "text/markdown": [
       "Test value: $1$ Predicted value: $1$ -- prob: $0.6493$"
      ],
      "text/plain": [
       "<IPython.core.display.Markdown object>"
      ]
     },
     "metadata": {},
     "output_type": "display_data"
    },
    {
     "data": {
      "text/markdown": [
       "Test value: $1$ Predicted value: $0$ -- prob: $0.4591$"
      ],
      "text/plain": [
       "<IPython.core.display.Markdown object>"
      ]
     },
     "metadata": {},
     "output_type": "display_data"
    },
    {
     "data": {
      "text/markdown": [
       "Test value: $0$ Predicted value: $1$ -- prob: $0.5287$"
      ],
      "text/plain": [
       "<IPython.core.display.Markdown object>"
      ]
     },
     "metadata": {},
     "output_type": "display_data"
    },
    {
     "data": {
      "text/markdown": [
       "Test value: $0$ Predicted value: $1$ -- prob: $0.8199$"
      ],
      "text/plain": [
       "<IPython.core.display.Markdown object>"
      ]
     },
     "metadata": {},
     "output_type": "display_data"
    },
    {
     "data": {
      "text/markdown": [
       "Test value: $0$ Predicted value: $0$ -- prob: $0.4237$"
      ],
      "text/plain": [
       "<IPython.core.display.Markdown object>"
      ]
     },
     "metadata": {},
     "output_type": "display_data"
    },
    {
     "data": {
      "text/markdown": [
       "Test value: $0$ Predicted value: $0$ -- prob: $0.4699$"
      ],
      "text/plain": [
       "<IPython.core.display.Markdown object>"
      ]
     },
     "metadata": {},
     "output_type": "display_data"
    },
    {
     "data": {
      "text/markdown": [
       "Test value: $0$ Predicted value: $1$ -- prob: $0.5013$"
      ],
      "text/plain": [
       "<IPython.core.display.Markdown object>"
      ]
     },
     "metadata": {},
     "output_type": "display_data"
    },
    {
     "data": {
      "text/markdown": [
       "Test value: $0$ Predicted value: $0$ -- prob: $0.49$"
      ],
      "text/plain": [
       "<IPython.core.display.Markdown object>"
      ]
     },
     "metadata": {},
     "output_type": "display_data"
    },
    {
     "data": {
      "text/markdown": [
       "Test value: $1$ Predicted value: $0$ -- prob: $0.4452$"
      ],
      "text/plain": [
       "<IPython.core.display.Markdown object>"
      ]
     },
     "metadata": {},
     "output_type": "display_data"
    },
    {
     "data": {
      "text/markdown": [
       "Test value: $0$ Predicted value: $0$ -- prob: $0.4642$"
      ],
      "text/plain": [
       "<IPython.core.display.Markdown object>"
      ]
     },
     "metadata": {},
     "output_type": "display_data"
    }
   ],
   "source": [
    "# funkcja decyzyjna + skutecznosc modelu\n",
    "def classifyBi(theta, X):\n",
    "    prob = h(theta, X).item()\n",
    "    return (1, prob) if prob > 0.5 else (0, prob)\n",
    "\n",
    "print(\"theta =\", thetaBest)\n",
    "print(\"x0 =\", XTest_norm[0])\n",
    "print(\"h(x0) =\", h(thetaBest, XTest_norm[0]).item())\n",
    "print(\"c(x0) =\", classifyBi(thetaBest, XTest_norm[0]), \"\\n\")\n",
    "\n",
    "acc = 0.0\n",
    "for i, rest in enumerate(ytest):\n",
    "    cls, prob = classifyBi(thetaBest, XTest_norm[i])\n",
    "    if i < 10:\n",
    "        display(Markdown(rf\"Test value: ${int(ytest[i].item())}$ Predicted value: ${cls}$ -- prob: ${round(prob, 4)}$\"))\n",
    "#         print(\"Test value: \", int(ytest[i].item()), \"Predicted value: \", cls, \"-- prob:\", round(prob, 4))\n",
    "    acc += cls == ytest[i].item()"
   ]
  },
  {
   "cell_type": "code",
   "execution_count": 19,
   "metadata": {},
   "outputs": [
    {
     "data": {
      "text/markdown": [
       "Test value: $1$ Predicted value: $1$ -- prob: $0.5$"
      ],
      "text/plain": [
       "<IPython.core.display.Markdown object>"
      ]
     },
     "metadata": {},
     "output_type": "display_data"
    },
    {
     "data": {
      "text/markdown": [
       "Test value: $1$ Predicted value: $0$ -- prob: $0.5$"
      ],
      "text/plain": [
       "<IPython.core.display.Markdown object>"
      ]
     },
     "metadata": {},
     "output_type": "display_data"
    },
    {
     "data": {
      "text/markdown": [
       "Test value: $0$ Predicted value: $1$ -- prob: $0.5$"
      ],
      "text/plain": [
       "<IPython.core.display.Markdown object>"
      ]
     },
     "metadata": {},
     "output_type": "display_data"
    },
    {
     "data": {
      "text/markdown": [
       "Test value: $0$ Predicted value: $1$ -- prob: $0.5$"
      ],
      "text/plain": [
       "<IPython.core.display.Markdown object>"
      ]
     },
     "metadata": {},
     "output_type": "display_data"
    },
    {
     "data": {
      "text/markdown": [
       "Test value: $0$ Predicted value: $1$ -- prob: $0.5$"
      ],
      "text/plain": [
       "<IPython.core.display.Markdown object>"
      ]
     },
     "metadata": {},
     "output_type": "display_data"
    },
    {
     "data": {
      "text/markdown": [
       "Test value: $0$ Predicted value: $1$ -- prob: $0.5$"
      ],
      "text/plain": [
       "<IPython.core.display.Markdown object>"
      ]
     },
     "metadata": {},
     "output_type": "display_data"
    },
    {
     "data": {
      "text/markdown": [
       "Test value: $0$ Predicted value: $1$ -- prob: $0.5$"
      ],
      "text/plain": [
       "<IPython.core.display.Markdown object>"
      ]
     },
     "metadata": {},
     "output_type": "display_data"
    },
    {
     "data": {
      "text/markdown": [
       "Test value: $0$ Predicted value: $1$ -- prob: $0.5$"
      ],
      "text/plain": [
       "<IPython.core.display.Markdown object>"
      ]
     },
     "metadata": {},
     "output_type": "display_data"
    },
    {
     "data": {
      "text/markdown": [
       "Test value: $1$ Predicted value: $1$ -- prob: $0.5$"
      ],
      "text/plain": [
       "<IPython.core.display.Markdown object>"
      ]
     },
     "metadata": {},
     "output_type": "display_data"
    },
    {
     "data": {
      "text/markdown": [
       "Test value: $0$ Predicted value: $1$ -- prob: $0.5$"
      ],
      "text/plain": [
       "<IPython.core.display.Markdown object>"
      ]
     },
     "metadata": {},
     "output_type": "display_data"
    },
    {
     "data": {
      "text/markdown": [
       "### Trained model accuracy: $0.5483870967741935$<br> Random classifier accuracy: $0.4913151364764268$"
      ],
      "text/plain": [
       "<IPython.core.display.Markdown object>"
      ]
     },
     "metadata": {},
     "output_type": "display_data"
    }
   ],
   "source": [
    "# losowy klasyfikator + porownanie dokladnosci\n",
    "random_acc = 0.0\n",
    "\n",
    "for i, rest in enumerate(ytest):\n",
    "    cls, prob = (random.randint(0, 1), 0.5)\n",
    "    if i < 10:\n",
    "        display(Markdown(rf\"Test value: ${int(ytest[i].item())}$ Predicted value: ${cls}$ -- prob: ${round(prob, 4)}$\"))\n",
    "    random_acc += cls == ytest[i].item()\n",
    "\n",
    "#print(f\"Trained model accuracy: {acc / len(XTest_norm)}\\nRandom classifier accuracy: {random_acc / len(XTest_norm)}\")\n",
    "display(Markdown(rf\"### Trained model accuracy: ${acc / len(XTest_norm)}$<br> Random classifier accuracy: ${random_acc / len(XTest_norm)}$\"))"
   ]
  }
 ],
 "metadata": {
  "celltoolbar": "Slideshow",
  "kernelspec": {
   "display_name": "Python 3",
   "language": "python",
   "name": "python3"
  },
  "language_info": {
   "codemirror_mode": {
    "name": "ipython",
    "version": 3
   },
   "file_extension": ".py",
   "mimetype": "text/x-python",
   "name": "python",
   "nbconvert_exporter": "python",
   "pygments_lexer": "ipython3",
   "version": "3.8.8"
  },
  "livereveal": {
   "start_slideshow_at": "selected",
   "theme": "amu"
  }
 },
 "nbformat": 4,
 "nbformat_minor": 4
}
